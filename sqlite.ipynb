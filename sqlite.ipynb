{
 "cells": [
  {
   "cell_type": "code",
   "execution_count": 1,
   "id": "d0c335b9",
   "metadata": {},
   "outputs": [],
   "source": [
    "import sqlite3 as sq\n",
    "import os\n",
    "from omegaconf import OmegaConf\n",
    "import requests\n",
    "from parser.parse import Parser\n",
    "from tqdm.notebook import tqdm\n",
    "import html_text"
   ]
  },
  {
   "cell_type": "code",
   "execution_count": 19,
   "id": "a02ac244",
   "metadata": {},
   "outputs": [
    {
     "data": {
      "text/plain": [
       "0"
      ]
     },
     "execution_count": 19,
     "metadata": {},
     "output_type": "execute_result"
    }
   ],
   "source": [
    "os.system('sqlite3 database.db < scripts/create_train_db.sql')"
   ]
  },
  {
   "cell_type": "code",
   "execution_count": 14,
   "id": "94fa21d8",
   "metadata": {},
   "outputs": [],
   "source": [
    "import sqlite3 as sq\n",
    "import os\n",
    "from omegaconf import OmegaConf\n",
    "import requests\n",
    "from parser.parse import Parser\n",
    "from tqdm.notebook import tqdm\n",
    "import html_text\n",
    "\n",
    "PATH_TO_YAML = 'description'\n",
    "con = sq.connect(\"train.db\")\n",
    "cur = con.cursor()\n",
    "\n",
    "\n",
    "for ind, i in enumerate(sorted(os.listdir(PATH_TO_YAML))):\n",
    "\n",
    "    args = OmegaConf.load(f'{PATH_TO_YAML}/{i}')\n",
    "    firstname, middlename, lastname = args.name.split()\n",
    "    cur.execute(\n",
    "        f\"\"\"INSERT INTO man (firstname, middlename, lastname, istina_url) \n",
    "        VALUES (?, ?, ?, ?);\"\"\", (firstname, middlename, lastname, args.istina_people))\n",
    "       \n",
    "    for item in tqdm(args.news):\n",
    "\n",
    "        try:\n",
    "            html = requests.get(item[0])\n",
    "        except:\n",
    "            cur.execute(\n",
    "                f\"\"\"INSERT INTO train (man_id, train_url, relevant) \n",
    "                VALUES (?, ?, ?);\"\"\", (ind+1, item[0], item[1]))\n",
    "            continue\n",
    "        if html.status_code != 200:\n",
    "            cur.execute(\n",
    "                f\"\"\"INSERT INTO train (man_id, train_url, relevant) \n",
    "                VALUES (?, ?, ?);\"\"\", (ind+1, item[0], item[1]))\n",
    "            continue\n",
    "\n",
    "        cur.execute(\n",
    "            f\"\"\"INSERT INTO train (raw_text, man_id, train_url, relevant) \n",
    "            VALUES (?, ?, ?, ?);\"\"\", (html.text, ind+1, item[0], item[1]))\n",
    "\n",
    "con.commit()\n",
    "con.close()"
   ]
  },
  {
   "cell_type": "code",
   "execution_count": null,
   "id": "cbbaf258",
   "metadata": {},
   "outputs": [],
   "source": [
    "def update():    \n",
    "    cur.execute(\n",
    "        f\"\"\"\n",
    "        select train.train_url, train.train_id \n",
    "        from train \n",
    "        where length(raw_text)==0;\"\"\")\n",
    "        search = cur.fetchall()\n",
    "        for item in search:\n",
    "\n",
    "            try:\n",
    "                html = requests.get(item[0])\n",
    "            except:\n",
    "                continue\n",
    "            if html.status_code != 200:\n",
    "                continue\n",
    "\n",
    "            cur.execute(\n",
    "                f\"\"\"UPDATE\n",
    "                        train\n",
    "                    SET\n",
    "                        raw_text = ?\n",
    "                    WHERE\n",
    "                        train_url = ?;\"\"\", (html.text, item[1]))"
   ]
  },
  {
   "cell_type": "code",
   "execution_count": 15,
   "id": "9ba597c6",
   "metadata": {},
   "outputs": [
    {
     "data": {
      "text/plain": [
       "4"
      ]
     },
     "execution_count": 15,
     "metadata": {},
     "output_type": "execute_result"
    }
   ],
   "source": [
    "2+2"
   ]
  },
  {
   "cell_type": "code",
   "execution_count": 11,
   "id": "17fabfe5",
   "metadata": {},
   "outputs": [],
   "source": [
    "con = sq.connect(\"train.db\")\n",
    "cur = con.cursor()\n",
    "cur.execute(\n",
    "    f\"\"\"\n",
    "    select train.train_url \n",
    "    from train \n",
    "    where length(raw_text)==0;\"\"\")\n",
    "ans = cur.fetchall()\n",
    "ans = [x[0] for x in ans]"
   ]
  },
  {
   "cell_type": "code",
   "execution_count": 12,
   "id": "a9cd6596",
   "metadata": {},
   "outputs": [
    {
     "data": {
      "text/plain": [
       "['https://sobesednik.com/politika/20220805-poziznennyi-rektor-kak-viktoru-sadovnic/',\n",
       " 'https://pasmi.ru/archive/237371/',\n",
       " 'https://m.tvzvezda.ru/news/201809291837-fvur.htm',\n",
       " 'https://novaya.media/articles/2022/09/21/o-schaste-v-katastrofe-ili-odin-urok-natsionalnogo-sopromata',\n",
       " 'https://www.championat.com/olympic/news-4413151-nemka-rikarda-funk-vyigrala-zoloto-olimpiady-2021-v-grebnom-slalome-v-bajdarke-odinochke.html',\n",
       " 'http://gorodskoyportal.ru/ekaterinburg/news/news/73047414/',\n",
       " 'https://fr.crno.ru/zhigulina',\n",
       " 'https://www.bfm.ru/news/511453',\n",
       " 'https://www.tadviser.ru/index.php/Персона:Бунина_Елена_Игоревна',\n",
       " 'https://studentin.msu.ru/sportsatmsu/tproduct/352745592-900518381901-altimat-frisbi',\n",
       " 'https://challenge.school.msu.ru/borntorun']"
      ]
     },
     "execution_count": 12,
     "metadata": {},
     "output_type": "execute_result"
    }
   ],
   "source": [
    "ans = [x[0] for x in ans]"
   ]
  },
  {
   "cell_type": "code",
   "execution_count": null,
   "id": "14979635",
   "metadata": {},
   "outputs": [],
   "source": []
  },
  {
   "cell_type": "code",
   "execution_count": 2,
   "id": "97f4374b",
   "metadata": {},
   "outputs": [],
   "source": [
    "con = sq.connect(\"train.db\")"
   ]
  },
  {
   "cell_type": "code",
   "execution_count": 3,
   "id": "b250d3da",
   "metadata": {},
   "outputs": [],
   "source": [
    "cur = con.cursor()"
   ]
  },
  {
   "cell_type": "code",
   "execution_count": 5,
   "id": "64494d9d",
   "metadata": {},
   "outputs": [
    {
     "name": "stdout",
     "output_type": "stream",
     "text": [
      "('CREATE TABLE sqlite_sequence(name,seq)',)\n",
      "('CREATE TABLE train (train_id integer primary key autoincrement, raw_text text, url text, man_id integer, relevant integer, train_url text)',)\n",
      "('CREATE TABLE man (man_id integer primary key autoincrement, firstname text, middlename text, lastname text, istina_url text)',)\n",
      "\n",
      "('sqlite_sequence',)\n",
      "('train',)\n",
      "('man',)\n"
     ]
    }
   ],
   "source": [
    "cur.execute(\"SELECT sql FROM sqlite_master WHERE type='table';\")\n",
    "print(*cur.fetchall(), sep='\\n', end='\\n\\n')\n",
    "cur.execute(\"SELECT name FROM sqlite_master WHERE type='table';\")\n",
    "print(*cur.fetchall(), sep='\\n')"
   ]
  },
  {
   "cell_type": "code",
   "execution_count": 47,
   "id": "faec89ea",
   "metadata": {},
   "outputs": [
    {
     "data": {
      "application/vnd.jupyter.widget-view+json": {
       "model_id": "04f72fa8bd8443b296c932f8e449ecfa",
       "version_major": 2,
       "version_minor": 0
      },
      "text/plain": [
       "  0%|          | 0/10 [00:00<?, ?it/s]"
      ]
     },
     "metadata": {},
     "output_type": "display_data"
    },
    {
     "name": "stdout",
     "output_type": "stream",
     "text": [
      "<!DOCTYPE html><html lang=\"ru\"><head><title>Извест\n",
      "1\n",
      "https://lenta.ru/news/2022/07/02/masloved/\n",
      "0\n",
      "<!DOCTYPE html><html lang=\"ru\"><head><meta charset\n",
      "1\n",
      "https://msk1.ru/text/world/2022/10/11/71727275/\n",
      "0\n",
      "<!DOCTYPE html><html lang=\"ru\" class=\"\"><head><met\n",
      "1\n",
      "https://newizv-ru.turbopages.org/newizv.ru/s/news/incident/26-08-2021/smi-millioner-iz-truschob-artem-maslov-prigovoren-k-10-godam-v-oae\n",
      "0\n",
      "<!DOCTYPE html>\n",
      "\n",
      "\n",
      "<html lang=\"ru\" >\n",
      "<head>\n",
      "    <me\n",
      "1\n",
      "https://www.rbc.ru/rbcfreenews/61b60da39a794770a69643ea\n",
      "0\n",
      "<!DOCTYPE html><html lang=\"ru\"><head><title>Жителя\n",
      "1\n",
      "https://lenta.ru/news/2019/01/21/bureya/\n",
      "0\n",
      "<!DOCTYPE html><html lang=\"ru\"><head><title>Профес\n",
      "1\n",
      "https://lenta.ru/news/2022/05/26/maslov/\n",
      "1\n",
      "<!DOCTYPE html><html lang=\"ru\"><head><title>Опасно\n",
      "1\n",
      "https://lenta.ru/news/2022/10/11/taivan/\n",
      "1\n",
      "<!DOCTYPE html><html lang=\"ru\"><head><title>Профес\n",
      "1\n",
      "https://lenta.ru/news/2022/05/26/maslov/\n",
      "1\n",
      "<!DOCTYPE html><html lang=\"ru\" class=\"\"><head><met\n",
      "1\n",
      "https://mir24-tv.turbopages.org/mir24.tv/s/news/16527090/professor-mgu-obyasnil-pochemu-svmda-stanovitsya-centrom-prinyatiya-reshenii\n",
      "1\n",
      "<!DOCTYPE html>\n",
      "<html lang=\"ru-RU\" class=\"no-js no\n",
      "1\n",
      "https://amaslov.me/ru/about_me/\n",
      "1\n"
     ]
    },
    {
     "data": {
      "application/vnd.jupyter.widget-view+json": {
       "model_id": "115d5b5336964e62a96d130e028f1f25",
       "version_major": 2,
       "version_minor": 0
      },
      "text/plain": [
       "  0%|          | 0/10 [00:00<?, ?it/s]"
      ]
     },
     "metadata": {},
     "output_type": "display_data"
    },
    {
     "name": "stdout",
     "output_type": "stream",
     "text": [
      "\n",
      "<html>\n",
      "<head>\n",
      "    <meta charset=\"utf-8\" />\n",
      "    <m\n",
      "2\n",
      "https://news.myseldon.com/ru/news/index/245728125\n",
      "0\n",
      "<!DOCTYPE html>\n",
      "<html lang=\"ru\">\n",
      "<head>\n",
      "    <meta \n",
      "2\n",
      "https://www.sports.kz/news/ivan-sadovnichiy-podpisal-kontrakt-s-tobolom\n",
      "0\n",
      "<head>\n",
      "<meta http-equiv=\"Content-Type\" content=\"te\n",
      "2\n",
      "https://proza.ru/2022/03/17/1848\n",
      "0\n",
      "<!DOCTYPE html>\n",
      "<html lang=\"en\">\n",
      "<head>\n",
      "    <meta \n",
      "2\n",
      "https://football.by/news/169142.html\n",
      "0\n",
      "<!doctype html>\n",
      "<html lang=\"ru\" prefix=\"og: http:/\n",
      "2\n",
      "https://bez-smenki.ru/luchshie-resursy-i-posobiya-dlya-podgotovki-k-ege-po-profilnoj-matematike/\n",
      "0\n",
      "<!DOCTYPE html><html lang=\"ru\"><head prefix=\"og: h\n",
      "2\n",
      "https://ria.ru/20221005/uchitel_goda-1821637158.html\n",
      "1\n",
      "<!doctype html>\n",
      "<html data-n-head-ssr lang=\"ru\" da\n",
      "2\n",
      "https://www.vedomosti.ru/society/articles/2019/12/05/817834-viktor-sadovnichii\n",
      "1\n",
      "<!DOCTYPE html><html lang=\"ru\" class=\"\"><head><met\n",
      "2\n",
      "https://news-ru.turbopages.org/news.ru/s/investigations/vytaptyvanie-semioticheskogo-polya-sadovnichego-prosyat-ne-gubit-institut-mgu/\n",
      "1\n"
     ]
    },
    {
     "data": {
      "application/vnd.jupyter.widget-view+json": {
       "model_id": "5368d7e93f8d4ef9b4488c8d4a98d7ba",
       "version_major": 2,
       "version_minor": 0
      },
      "text/plain": [
       "  0%|          | 0/10 [00:00<?, ?it/s]"
      ]
     },
     "metadata": {},
     "output_type": "display_data"
    },
    {
     "name": "stdout",
     "output_type": "stream",
     "text": [
      "<!doctype html>\n",
      "<html data-n-head-ssr lang=\"ru\" da\n",
      "3\n",
      "https://www.vedomosti.ru/society/articles/2019/12/05/817834-viktor-sadovnichii\n",
      "0\n",
      "<!doctype html>\n",
      "<!--[if IE 7]><html id=\"no-js\" cla\n",
      "3\n",
      "https://marena99.livejournal.com/10942033.html\n",
      "0\n",
      "<!DOCTYPE html><html lang=\"ru\" class=\"\"><head><met\n",
      "3\n",
      "https://newsru-com.turbopages.org/newsru.com/s/russia/05dec2019/sadovnichiy.html\n",
      "0\n",
      "<!DOCTYPE html>\n",
      "<html lang=\"en\">\n",
      "<head>\n",
      "    <meta \n",
      "3\n",
      "https://football.by/news/169142.html\n",
      "0\n",
      "<!DOCTYPE html>\n",
      "<!--[if IE 7]> <html class=\"lt-ie9\n",
      "3\n",
      "https://www.msu.ru/info/struct/rectintv_arch/viktor_sadovnichiy_zhena_do_sikh_por_serditsya_na_menya_za_svadbu_rektoru_glavnogo_rossiyskogo_vuza_.html\n",
      "0\n",
      "\n",
      "<html>\n",
      "<head>\n",
      "    <meta charset=\"utf-8\" />\n",
      "    <m\n",
      "3\n",
      "https://news.myseldon.com/ru/news/index/241515985\n",
      "1\n",
      "<!DOCTYPE html>\n",
      "<html lang=\"ru\">\n",
      "<head>\n",
      "    <title\n",
      "3\n",
      "https://cheb.mk.ru/articles/2015/03/25/professor-mgu-rassuzhdaet-o-problemakh-obrazovaniya.html\n",
      "1\n",
      "\n",
      "\n",
      "<!DOCTYPE html>\n",
      "<html lang=\"ru\">\n",
      "    <head>\n",
      "    \n",
      "3\n",
      "https://tmgnews.ru/novosti/matematik-s-mirovym-imenem-iurii-sadovnichii-prochital-lektsiiu-dlia-tuvy/\n",
      "1\n",
      "<!DOCTYPE html>\n",
      "<html lang=\"ru\">\n",
      "<head>\n",
      "    <meta \n",
      "3\n",
      "https://moscow-baku.ru/news/society/zamestitel_rukovoditelya_bakinskogo_filiala_mgu_yuriy_sadovnichiy_nash_diplom_daet_putevku_v_zhizn/\n",
      "1\n",
      "<HTML>\n",
      "<HEAD>\n",
      "<TITLE>Кызыл | Ученый с мировым им\n",
      "3\n",
      "https://kizil.bezformata.com/listnews/sadovnichij-chitaet-lektcii-po-matematike/80186159/\n",
      "1\n"
     ]
    },
    {
     "data": {
      "application/vnd.jupyter.widget-view+json": {
       "model_id": "6a345b6531e746faac881ad980c8d729",
       "version_major": 2,
       "version_minor": 0
      },
      "text/plain": [
       "  0%|          | 0/13 [00:00<?, ?it/s]"
      ]
     },
     "metadata": {},
     "output_type": "display_data"
    },
    {
     "name": "stdout",
     "output_type": "stream",
     "text": [
      "<!DOCTYPE html>\n",
      "<html lang=\"ru\">\n",
      "\n",
      "<head>\n",
      "    <meta\n",
      "4\n",
      "http://www.directspeech.ru/news/ritmy-rms/dmitriy-borodaev-muzyka-kak-luchshiy-antidepressant/\n",
      "0\n",
      "\n",
      "\n",
      "<!DOCTYPE html>\n",
      "<html lang=\"ru-RU\">\n",
      "<head>\n",
      "    <\n",
      "4\n",
      "https://www.ugorizont.ru/2020/10/09/alina-borodaeva-diktovala-muzhchinam-svoi-pravila/\n",
      "0\n",
      "<!DOCTYPE html>\n",
      "<html lang=\"ru-RU\" class=\"no-js no\n",
      "4\n",
      "https://www.osnmedia.ru/obshhestvo/deputat-borodaj-chudom-ne-pogib-v-zone-spetsoperatsii-pod-hersonom/\n",
      "0\n",
      "<!doctype html>\n",
      "<html lang=\"ru\">\n",
      "<head>\n",
      "    <meta \n",
      "4\n",
      "https://nsk.bfm.ru/news/13607\n",
      "0\n",
      "<!doctype html public \"-//w3c//dtd html 4.0 transi\n",
      "4\n",
      "http://www.abc-guitars.com/pages/borodaev.htm\n",
      "0\n",
      "<!DOCTYPE html>\n",
      "<html>\n",
      "<head>\n",
      "<link rel=\"shortcut \n",
      "4\n",
      "http://viperson.ru/people/borodaev-valeriy-vasilievich\n",
      "0\n",
      "<!DOCTYPE html><html lang=\"ru\"><head><meta content\n",
      "4\n",
      "https://rostov.dk.ru/news/viktor-borodaev-nakormit-polmira-236554374\n",
      "0\n",
      "\n",
      "<html>\n",
      "<head>\n",
      "    <meta charset=\"utf-8\" />\n",
      "    <m\n",
      "4\n",
      "https://news.myseldon.com/ru/news/index/274178340\n",
      "1\n",
      "<!DOCTYPE html>\n",
      "<!--[if IE 7]> <html class=\"lt-ie9\n",
      "4\n",
      "https://www.msu.ru/thanks/k-yubileyu-v-a-nbsp-borodaeva.html\n",
      "1\n",
      "<!DOCTYPE html>\n",
      "<html lang=\"ru\" xmlns:og=\"http://o\n",
      "4\n",
      "https://www.viaevrasia.com/ru/три-главных-направления-мировой-политики-кубы-в-начале-xxi-века-владимир-бородаев.html\n",
      "1\n",
      "<!DOCTYPE html>\n",
      "<head> \n",
      " <meta charset=\"utf-8\"><\n",
      "4\n",
      "http://wikiredia.ru/wiki/Бородаев,_Владимир_Алексеевич_(историк)\n",
      "1\n",
      "\t\n",
      "\n",
      "<?xml version=\"1.0\" encoding=\"UTF-8\"?>\n",
      "<!DOCTYP\n",
      "4\n",
      "http://www.historystudies.msu.ru/ojs2/index.php/ISIS/article/view/115/299\n",
      "1\n"
     ]
    },
    {
     "data": {
      "application/vnd.jupyter.widget-view+json": {
       "model_id": "393ba8e52d75415f96e96fc1cb20c1d9",
       "version_major": 2,
       "version_minor": 0
      },
      "text/plain": [
       "  0%|          | 0/12 [00:00<?, ?it/s]"
      ]
     },
     "metadata": {},
     "output_type": "display_data"
    },
    {
     "name": "stdout",
     "output_type": "stream",
     "text": [
      "<!DOCTYPE html>\n",
      "<html lang=\"ru\">\n",
      "<head>\n",
      "<title>\n",
      "5\n",
      "https://mipt.ru/education/chairs/parallelcomputing/persons/tarasov.php\n",
      "0\n",
      "<!DOCTYPE HTML>\n",
      "<html lang=\"RU\">\n",
      "<head><title>\n",
      "\n",
      "  \n",
      "5\n",
      "https://maxpark.com/community/6215/content/7150047\n",
      "0\n",
      "<!DOCTYPE html><!--[if IE 9]><html class=\"lt-ie10\"\n",
      "5\n",
      "https://www.mos.ru/dgi/structure/person/104877093/\n",
      "0\n",
      "\n",
      "<html>\n",
      "<head>\n",
      "    <meta charset=\"utf-8\" />\n",
      "    <m\n",
      "5\n",
      "https://news.myseldon.com/ru/news/index/214497394\n",
      "0\n",
      "\n",
      "    <!DOCTYPE html>\n",
      "\n",
      "\n",
      "<html lang=\"ru\" >\n",
      "<head>\n",
      "  \n",
      "5\n",
      "https://www.rbc.ru/business/04/08/2021/610a3c989a7947b450383fd9\n",
      "0\n",
      "<!DOCTYPE html>\n",
      "<html class=\"no-js s-page\" lang=\"r\n",
      "5\n",
      "https://geol.msu.ru/uchjonye-mgu-objasnili-pojavlenie-defektov-v-solnechnyh-batarejah/\n",
      "1\n",
      "<!DOCTYPE html>\n",
      "<!--[if IE 7]> <html class=\"lt-ie9\n",
      "5\n",
      "https://www.msu.ru/science/main_themes/uchenyy-mgu-o-budushchem-otechestvennoy-solnechnoy-energetiki.html\n",
      "1\n",
      "<!doctype html><html lang=\"ru\"><head><meta data-re\n",
      "5\n",
      "https://news.rambler.ru/scitech/44710398-v-mgu-sozdali-bazu-dannyh-perspektivnyh-perovskitov/\n",
      "1\n",
      "<!DOCTYPE html>\n",
      "<!--[if IE 7]> <html class=\"lt-ie9\n",
      "5\n",
      "https://www.msu.ru/science/main_themes/v-mgu-razrabotali-novuyu-strategiyu-polucheniya-perovskitnykh-solnechnykh-yacheek.html\n",
      "1\n",
      "<!doctype html><html lang=\"ru\"><head><meta data-re\n",
      "5\n",
      "https://news.rambler.ru/other/44061574-poluchenie-gibridnyh-perovskitov-uskorili/\n",
      "1\n",
      "<!DOCTYPE html>\n",
      "<html lang=\"ru\">\n",
      "<head>\n",
      "    <meta \n",
      "5\n",
      "https://годнауки.рф/news/8681/\n",
      "1\n"
     ]
    },
    {
     "data": {
      "application/vnd.jupyter.widget-view+json": {
       "model_id": "f97e3bce0cc04697912c123c1b98ee7d",
       "version_major": 2,
       "version_minor": 0
      },
      "text/plain": [
       "  0%|          | 0/13 [00:00<?, ?it/s]"
      ]
     },
     "metadata": {},
     "output_type": "display_data"
    },
    {
     "name": "stdout",
     "output_type": "stream",
     "text": [
      "<!DOCTYPE html>\n",
      "<html lang=\"ru\">\n",
      "<head>\n",
      "    <title\n",
      "6\n",
      "https://www.mk-kuzbass.ru/incident/2020/07/19/stala-izvestna-predvaritelnaya-prichina-smerti-predprinimatelya-andreya-funka.html?utm_source=yxnews&utm_medium=desktop\n",
      "0\n",
      "<!DOCTYPE html>\n",
      "<html dir=\"ltr\" lang=\"ru-RU\"\n",
      "\tpref\n",
      "6\n",
      "https://spandau-prison.com/valter-funk-prigovor-njurnbergskogo-tribunala/\n",
      "0\n",
      "<!DOCTYPE html>\n",
      "<html class=\"client-nojs\" lang=\"ru\n",
      "6\n",
      "https://ru.wikipedia.org/wiki/Функ,_Патрик\n",
      "0\n",
      "<!DOCTYPE html SYSTEM \"about:legacy-compat\">\n",
      "<html\n",
      "6\n",
      "https://nuremberg.media/figuranty/20210805/227352/Ministr-zolotykh-koronok.html\n",
      "0\n",
      "<!DOCTYPE html><html lang=\"ru\"><head><title>«Скину\n",
      "6\n",
      "https://lenta.ru/articles/2020/05/26/harassment/\n",
      "1\n",
      "\n",
      "<html>\n",
      "<head>\n",
      "    <meta charset=\"utf-8\" />\n",
      "    <m\n",
      "6\n",
      "https://news.myseldon.com/ru/news/index/228742787\n",
      "1\n",
      "<!DOCTYPE html>\n",
      "<html class=\"no-js\" lang=\"ru-RU\">\n",
      "\n",
      "6\n",
      "https://iea-ras.ru/?page_id=3298\n",
      "1\n",
      "<!DOCTYPE html>\n",
      "<html lang=\"ru-RU\" class=\"no-js no\n",
      "6\n",
      "https://etnografy.altspu.ru/2021/11/02/функ-дмитрий-анатольевич/\n",
      "1\n",
      "<!DOCTYPE html>\n",
      "<html lang=\"ru\" class=\"transition-\n",
      "6\n",
      "https://www.tsu.ru/university/sovets/Academic_Council/seminar/2018/LectureFunkDA.php\n",
      "1\n",
      "<html>\n",
      "<head>\n",
      "<meta http-equiv=\"X-UA-Compatible\" c\n",
      "6\n",
      "http://tssw.ru/directions/istoriya-arkheologiya-i-etnografiya-/\n",
      "1\n",
      "<!DOCTYPE html>\n",
      "<html prefix=\"og: http://ogp.me/ns\n",
      "6\n",
      "https://polit.ru/article/2014/02/13/ps_cmns/\n",
      "1\n"
     ]
    },
    {
     "data": {
      "application/vnd.jupyter.widget-view+json": {
       "model_id": "3abc86b11786422ba133cc9be0835dd0",
       "version_major": 2,
       "version_minor": 0
      },
      "text/plain": [
       "  0%|          | 0/13 [00:00<?, ?it/s]"
      ]
     },
     "metadata": {},
     "output_type": "display_data"
    },
    {
     "name": "stdout",
     "output_type": "stream",
     "text": [
      "<!DOCTYPE html>\n",
      "<html>\n",
      "<head>\n",
      "<link rel=\"styleshee\n",
      "7\n",
      "https://oralhistory.ru/members/zhigulina-o-v\n",
      "0\n",
      "<!DOCTYPE html>\n",
      "\n",
      "<html class=\"no-js\" lang=\"ru-RU\" \n",
      "7\n",
      "https://profjur.org/free-golunov-now/\n",
      "0\n",
      "<!DOCTYPE html>\n",
      "<html lang=\"ru\">\n",
      "\n",
      "<head>\n",
      "\n",
      "<meta ht\n",
      "7\n",
      "https://checko.ru/company/fond-liga-vypusknikov-1227700245288\n",
      "0\n",
      "<!doctype html>\n",
      "<html data-n-head-ssr lang=\"ru\" da\n",
      "7\n",
      "https://www.vedomosti.ru/press_releases/2022/04/20/neobhodimo-izmenenie-zakonodatelstva-dlya-formirovaniya-modeli-sotsialnoi-ekonomiki--yuliya-zhigulina\n",
      "0\n",
      "<!doctype html>\n",
      "<html data-n-head-ssr lang=\"ru\" da\n",
      "7\n",
      "https://www.forbes.ru/forbes-woman/472143-my-maksimal-no-otkryty-kak-vypuskniki-urfaka-mgu-sozdali-fond-dla-pomosi-studentam\n",
      "1\n",
      "<!DOCTYPE html>\n",
      "<html lang=\"ru\">\n",
      "<head>\n",
      "    <base \n",
      "7\n",
      "https://rbs.partners/mediatsentr/forbes-i-pravo-ru-rasskazali-o-vstreche-yuristov-vypusknikov-mgu\n",
      "1\n",
      "<!DOCTYPE html>\n",
      "<html lang=\"ru\">\n",
      "<head>\n",
      "\t<meta cha\n",
      "7\n",
      "https://www.dissercat.com/content/dogovor-kak-istochnik-prava-teoreticheskie-i-metodologicheskie-problemy\n",
      "1\n",
      "<!doctype html>\n",
      "<html class=\"no-js\" lang=\"ru\">\n",
      "<he\n",
      "7\n",
      "https://pravo.ru/company_news/241915/\n",
      "1\n",
      "<!DOCTYPE html><html lang=\"ru\"><head>\n",
      "<title>Защи\n",
      "7\n",
      "https://salda.ws/video.php?id=eT0Hpw06_vc\n",
      "1\n",
      "\n",
      "<!DOCTYPE html PUBLIC \"-//W3C//DTD XHTML+RDFa 1.\n",
      "7\n",
      "http://old.law.msu.ru/node/56213\n",
      "1\n",
      "<!DOCTYPE html>\n",
      "\n",
      "<html lang=\"ru\" class=\"neb4\"  pre\n",
      "7\n",
      "https://rusneb.ru/catalog/000199_000009_010260269/\n",
      "1\n"
     ]
    },
    {
     "data": {
      "application/vnd.jupyter.widget-view+json": {
       "model_id": "75e8c30889f64b798f25d6efd2c9f19f",
       "version_major": 2,
       "version_minor": 0
      },
      "text/plain": [
       "  0%|          | 0/13 [00:00<?, ?it/s]"
      ]
     },
     "metadata": {},
     "output_type": "display_data"
    },
    {
     "name": "stdout",
     "output_type": "stream",
     "text": [
      "<!doctype html>\n",
      "<!--[if IE 7]><html id=\"no-js\" cla\n",
      "8\n",
      "https://maxvl.livejournal.com/19824685.html\n",
      "0\n",
      "<!DOCTYPE html>\n",
      "<html lang=\"ru\">\n",
      "<head>\n",
      "    <meta \n",
      "8\n",
      "https://newsland.com/post/5114257-v-rossii-khotiat-zapretit-chekhova-bunina-i-kuprina\n",
      "0\n",
      "<!doctype html>\n",
      "<!--[if IE 7]><html id=\"no-js\" cla\n",
      "8\n",
      "https://cycyron.livejournal.com/10135282.html\n",
      "0\n",
      "<!DOCTYPE HTML PUBLIC \"-//W3C//DTD HTML 4.01 Trans\n",
      "8\n",
      "https://ogtrk.ru/novosti/85034.html\n",
      "0\n",
      "<!DOCTYPE html>\n",
      "<html xmlns=\"http://www.w3.org/199\n",
      "8\n",
      "https://tarhany.ru/events/news/374\n",
      "0\n",
      "  <!DOCTYPE html>\n",
      "  <html lang=\"ru\">\n",
      "  <head>\n",
      "    \n",
      "8\n",
      "https://57.mskobr.ru/edu-news/2716\n",
      "1\n",
      "\n",
      "<html>\n",
      "<head>\n",
      "    <meta charset=\"utf-8\" />\n",
      "    <m\n",
      "8\n",
      "https://news.myseldon.com/ru/news/index/269045127\n",
      "1\n",
      "<!DOCTYPE html><html ng-app=\"tassApp\" ng-controlle\n",
      "8\n",
      "https://tass.ru/encyclopedia/person/bunina-elena-igorevna\n",
      "1\n",
      "<!doctype html>\n",
      "<html lang=\"ru\"><head><link data-r\n",
      "8\n",
      "https://mel.fm/vospitaniye/intervyu/1402678-u-menya-chetvero-detey-no-ya-ni-razu-ne-byla-v-dekrete-gendirektor-yandeksa-yelena-bunina--o-rabote-\n",
      "1\n",
      "<!doctype html>\n",
      "<html data-n-head-ssr lang=\"ru\" da\n",
      "8\n",
      "https://www.forbes.ru/forbes-woman/417669-my-bolshie-znachit-i-otvetstvennosti-bolshe-gendirektor-yandeksa-elena-bunina-o\n",
      "1\n",
      "<!DOCTYPE html><html prefix=\"og: http://ogp.me/ns#\n",
      "8\n",
      "https://theoryandpractice.ru/posts/18727-elena-bunina-kak-iz-prepodavatelya-stat-generalnym-direktorom-it-giganta\n",
      "1\n"
     ]
    },
    {
     "data": {
      "application/vnd.jupyter.widget-view+json": {
       "model_id": "923f07a87ab04e4eb3592195a8db6683",
       "version_major": 2,
       "version_minor": 0
      },
      "text/plain": [
       "  0%|          | 0/10 [00:00<?, ?it/s]"
      ]
     },
     "metadata": {},
     "output_type": "display_data"
    },
    {
     "name": "stdout",
     "output_type": "stream",
     "text": [
      "<HTML>\n",
      "<HEAD>\n",
      "<TITLE>Саранск | В Управлении Росг\n",
      "9\n",
      "https://saransk.bezformata.com/listnews/rosgvardii-po-respublike-mordoviya/95269468/\n",
      "0\n",
      "\n",
      "<html>\n",
      "<head>\n",
      "    <meta charset=\"utf-8\" />\n",
      "    <m\n",
      "9\n",
      "https://news.myseldon.com/ru/news/index/268762317\n",
      "0\n",
      "<!DOCTYPE html>\n",
      "<html>\n",
      "<head>\n",
      "    <meta charset=\"U\n",
      "9\n",
      "https://r-hockey.ru/people/player/583-001-0122178-9\n",
      "0\n",
      "  <!DOCTYPE html>\n",
      "  <html lang=\"ru\">\n",
      "  <head>\n",
      "    \n",
      "9\n",
      "https://sch1370sv.mskobr.ru/teacher-card/sharakin_ivan_nikolaevich\n",
      "0\n",
      "<!DOCTYPE html>\n",
      "<html xmlns=\"https://www.w3.org/19\n",
      "9\n",
      "https://sc6kov.schoolrm.ru/history/reviews/33390/292014/\n",
      "0\n",
      "<!DOCTYPE html>\n",
      "<!--[if IE 7]> <html class=\"lt-ie9\n",
      "9\n",
      "https://www.msu.ru/science/main_themes/uchyenye-mgu-zaregistrirovali-13-novykh-meteorov-pri-pomoshchi-rossiyskogo-detektora-.html\n",
      "1\n",
      "<!DOCTYPE html>\n",
      "<html lang=\"ru\">\n",
      "    <head>\n",
      "      \n",
      "9\n",
      "https://mashnews.ru/sputnik-mgu-lomonosov-zaregistriroval-13-novyix-meteorov.html\n",
      "1\n",
      " \n",
      "<!DOCTYPE HTML SYSTEM> \n",
      "<html> \n",
      "<head> \n",
      "        \n",
      "9\n",
      "https://skimsu.ru/?action=news&id=750\n",
      "1\n"
     ]
    },
    {
     "data": {
      "application/vnd.jupyter.widget-view+json": {
       "model_id": "e95f632a2c744fe2bdf808d53cf4a189",
       "version_major": 2,
       "version_minor": 0
      },
      "text/plain": [
       "  0%|          | 0/10 [00:00<?, ?it/s]"
      ]
     },
     "metadata": {},
     "output_type": "display_data"
    },
    {
     "name": "stdout",
     "output_type": "stream",
     "text": [
      "<!DOCTYPE html PUBLIC  \"-//W3C//DTD XHTML 1.0 Stri\n",
      "10\n",
      "https://restoranoff.ru/experts/who-is/Nikiforov_Aleksandr/\n",
      "0\n",
      "<!DOCTYPE html>\n",
      "<html class=\"client-nojs\" lang=\"ru\n",
      "10\n",
      "https://ru.wikipedia.org/wiki/Никифоров,_Николай_Анатольевич\n",
      "0\n",
      "<!DOCTYPE html>\n",
      "<html lang=\"ru\">\n",
      "<head>\n",
      "    <title\n",
      "10\n",
      "https://www.cnews.ru/news/top/2020-07-08_zhena_eksministra_svyazi_nikolaya\n",
      "0\n",
      "<!doctype html>\n",
      "<html data-n-head-ssr lang=\"ru\" da\n",
      "10\n",
      "https://www.forbes.ru/tehnologii/345509-cb-do-virtualnoy-nacionalnoy-valyuty-my-tochno-doydem\n",
      "0\n",
      "<!DOCTYPE html>\n",
      "<html lang=\"ru-RU\" prefix=\"og: ht\n",
      "10\n",
      "https://ulpressa.ru/2021/07/13/диатомовое-дело-жизнь-евгения-никифо/\n",
      "0\n",
      "<!doctype html>\n",
      "<html lang=\"en\">\n",
      "<head>\n",
      "    <meta \n",
      "10\n",
      "https://icmos.ru/news/ximiki-mgu-v-5-raz-ulucsili-katalizator-dlya-proizvodstva-propilena\n",
      "1\n",
      "<!DOCTYPE html>\n",
      "<!--[if IE 7]>\n",
      "<html class=\"ie ie7\n",
      "10\n",
      "https://phys.chem.msu.ru/people/nikiforov-ai/\n",
      "1\n",
      "<!DOCTYPE html>\n",
      "<!--[if IE 7]> <html class=\"lt-ie9\n",
      "10\n",
      "https://www.msu.ru/science/main_themes/khimiki-mgu-v-5-raz-uluchshili-katalizator-dlya-proizvodstva-propilena.html\n",
      "1\n",
      "<!DOCTYPE html>\n",
      "<html lang=\"ru-RU\" class=\"no-js\" x\n",
      "10\n",
      "https://poisknews.ru/news/himiki-mgu-v-5-raz-uluchshili-katalizator-dlya-proizvodstva-propilena/\n",
      "1\n",
      "<!DOCTYPE html>\n",
      "<html lang=\"en\">\n",
      "<head>\n",
      "    <meta \n",
      "10\n",
      "https://polymer.phys.msu.ru/users/nikiforov\n",
      "1\n"
     ]
    }
   ],
   "source": [
    "data = 'description'\n",
    "for ind, i in enumerate(sorted(os.listdir(data))):\n",
    "    # get vocabulary by istina\n",
    "    args = OmegaConf.load(data+'/'+i)\n",
    "    firstname, middlename, lastname = args.name.split()\n",
    "#     print(args.name.split(), args.istina_people)\n",
    "#     cur.execute(\n",
    "#     f\"\"\"INSERT INTO man (firstname, middlename, lastname, istina_url) \n",
    "#     VALUES ('{firstname}', '{middlename}', '{lastname}', '{args.istina_people}');\"\"\")\n",
    "    # get vocabulary by news in corresponding .yaml file\n",
    "    for item in tqdm(args.news):\n",
    "        try:\n",
    "            html = requests.get(item[0])\n",
    "        except:\n",
    "            cur.execute(\n",
    "                f\"\"\"INSERT INTO train (man_id, train_url) \n",
    "                VALUES ('{ind+1}', '{item[0]}');\"\"\")\n",
    "            continue\n",
    "        if html.status_code != 200:\n",
    "            cur.execute(\n",
    "                f\"\"\"INSERT INTO train (man_id, train_url) \n",
    "                VALUES ('{ind+1}', '{item[0]}');\"\"\")\n",
    "            continue\n",
    "\n",
    "        cur.execute(\n",
    "            f\"\"\"INSERT INTO train (raw_text, man_id, train_url, relevant) \n",
    "            VALUES (?, ?, ?, ?);\"\"\", (html.text, ind+1, item[0], item[1]))"
   ]
  },
  {
   "cell_type": "code",
   "execution_count": 50,
   "id": "c2c9d20c",
   "metadata": {},
   "outputs": [],
   "source": [
    "con.commit()\n",
    "con.close()"
   ]
  },
  {
   "cell_type": "code",
   "execution_count": 7,
   "id": "52f05c5f",
   "metadata": {},
   "outputs": [],
   "source": [
    "con.close()"
   ]
  },
  {
   "cell_type": "code",
   "execution_count": null,
   "id": "4ee812fc",
   "metadata": {},
   "outputs": [],
   "source": [
    "cur.execute(\"\"\"SELECT * from man;\"\"\")\n",
    "print(*cur.fetchall(), sep='\\n')"
   ]
  },
  {
   "cell_type": "code",
   "execution_count": 38,
   "id": "d8cbc342",
   "metadata": {},
   "outputs": [
    {
     "name": "stdout",
     "output_type": "stream",
     "text": [
      "(1, 'Маслов', 'Алексей', 'Александрович', 'https://istina.msu.ru/profile/Amaslov/')\n",
      "(2, 'Садовничий', 'Виктор', 'Антонович', 'https://istina.msu.ru/profile/SVA/')\n",
      "(3, 'Садовничий', 'Юрий', 'Викторович', 'https://istina.msu.ru/profile/uvs/')\n",
      "(4, 'Бородаев', 'Владимир', 'Алексеевич', 'https://istina.msu.ru/profile/BorodaevVA/')\n",
      "(5, 'Тарасов', 'Алексей', 'Борисович', 'https://istina.msu.ru/profile/alexey.bor.tarasov%40gmail.com/')\n",
      "(6, 'Функ', 'Дмитрий', 'Анатольевич', 'https://istina.msu.ru/profile/d_funk/')\n",
      "(7, 'Жигулина', 'Алёна', 'Владимировна', 'https://istina.msu.ru/profile/d_funk/')\n",
      "(8, 'Бунина', 'Елена', 'Игоревна', 'https://istina.msu.ru/profile/helenbunina/')\n",
      "(9, 'Шаракин', 'Сергей', 'Александрович', 'https://istina.msu.ru/profile/sharakin/')\n",
      "(10, 'Никифоров', 'Александр', 'Игоревич', 'https://istina.msu.ru/profile/AlexanderNikiforov/')\n"
     ]
    }
   ],
   "source": [
    "cur.execute(\"\"\"SELECT * from man;\"\"\")\n",
    "print(*cur.fetchall(), sep='\\n')"
   ]
  },
  {
   "cell_type": "code",
   "execution_count": null,
   "id": "edc3cc50",
   "metadata": {},
   "outputs": [],
   "source": [
    "cur.execute(\n",
    "    \"\"\"INSERT INTO man (firstname, middlename, lastname, istina_url) \n",
    "    VALUES ({},{},{}, {});\"\"\")"
   ]
  },
  {
   "cell_type": "code",
   "execution_count": 28,
   "id": "410dc9be",
   "metadata": {},
   "outputs": [
    {
     "data": {
      "application/vnd.jupyter.widget-view+json": {
       "model_id": "79ee3edb468f4408b1207f5e90b76488",
       "version_major": 2,
       "version_minor": 0
      },
      "text/plain": [
       "  0%|          | 0/10 [00:00<?, ?it/s]"
      ]
     },
     "metadata": {},
     "output_type": "display_data"
    },
    {
     "data": {
      "application/vnd.jupyter.widget-view+json": {
       "model_id": "a824e76050a84807926d5f101f4b901a",
       "version_major": 2,
       "version_minor": 0
      },
      "text/plain": [
       "  0%|          | 0/10 [00:00<?, ?it/s]"
      ]
     },
     "metadata": {},
     "output_type": "display_data"
    },
    {
     "data": {
      "application/vnd.jupyter.widget-view+json": {
       "model_id": "bab17cfb052741b5b599d430521ecf78",
       "version_major": 2,
       "version_minor": 0
      },
      "text/plain": [
       "  0%|          | 0/10 [00:00<?, ?it/s]"
      ]
     },
     "metadata": {},
     "output_type": "display_data"
    },
    {
     "data": {
      "application/vnd.jupyter.widget-view+json": {
       "model_id": "cad6b682c44148f4b4018f309e48aef9",
       "version_major": 2,
       "version_minor": 0
      },
      "text/plain": [
       "  0%|          | 0/13 [00:00<?, ?it/s]"
      ]
     },
     "metadata": {},
     "output_type": "display_data"
    },
    {
     "data": {
      "application/vnd.jupyter.widget-view+json": {
       "model_id": "4135dd45232f437da08969293a25de8b",
       "version_major": 2,
       "version_minor": 0
      },
      "text/plain": [
       "  0%|          | 0/12 [00:00<?, ?it/s]"
      ]
     },
     "metadata": {},
     "output_type": "display_data"
    },
    {
     "data": {
      "application/vnd.jupyter.widget-view+json": {
       "model_id": "5b1735bb9c2c406a9ddca142086775af",
       "version_major": 2,
       "version_minor": 0
      },
      "text/plain": [
       "  0%|          | 0/13 [00:00<?, ?it/s]"
      ]
     },
     "metadata": {},
     "output_type": "display_data"
    },
    {
     "data": {
      "application/vnd.jupyter.widget-view+json": {
       "model_id": "250746b73fed4791bad08ac78ddf44b1",
       "version_major": 2,
       "version_minor": 0
      },
      "text/plain": [
       "  0%|          | 0/13 [00:00<?, ?it/s]"
      ]
     },
     "metadata": {},
     "output_type": "display_data"
    },
    {
     "data": {
      "application/vnd.jupyter.widget-view+json": {
       "model_id": "5527789b70044662ad067881ab56b02b",
       "version_major": 2,
       "version_minor": 0
      },
      "text/plain": [
       "  0%|          | 0/13 [00:00<?, ?it/s]"
      ]
     },
     "metadata": {},
     "output_type": "display_data"
    },
    {
     "data": {
      "application/vnd.jupyter.widget-view+json": {
       "model_id": "cb730b000641463c8af783eb109222f5",
       "version_major": 2,
       "version_minor": 0
      },
      "text/plain": [
       "  0%|          | 0/10 [00:00<?, ?it/s]"
      ]
     },
     "metadata": {},
     "output_type": "display_data"
    },
    {
     "data": {
      "application/vnd.jupyter.widget-view+json": {
       "model_id": "d815a99b321e44f49bb54ac565066a12",
       "version_major": 2,
       "version_minor": 0
      },
      "text/plain": [
       "  0%|          | 0/10 [00:00<?, ?it/s]"
      ]
     },
     "metadata": {},
     "output_type": "display_data"
    }
   ],
   "source": [
    "data = 'description'\n",
    "\n",
    "for i in sorted(os.listdir(data)):\n",
    "    # get vocabulary by istina\n",
    "    args = OmegaConf.load(data+'/'+i)\n",
    "    html = requests.get(args.istina_people).text\n",
    "    parser = Parser()\n",
    "    reference = parser.istina_parser(html)\n",
    "    vocabulary = parser.get_vocab(reference['publishes'] + reference['place'] + \n",
    "                                  reference['coauthors'] + args.name.split())\n",
    "    \n",
    "    # get vocabulary by news in corresponding .yaml file\n",
    "    vocabulary = list(vocabulary)\n",
    "    corpus = []\n",
    "    relevant = []\n",
    "    actual_news = []\n",
    "    parser = Parser()\n",
    "    for item in tqdm(args.news):\n",
    "        try:\n",
    "            html = requests.get(item[0])\n",
    "        except:\n",
    "            continue\n",
    "#         print(item, html.status_code)\n",
    "        if html.status_code != 200:\n",
    "            continue\n",
    "        html = html.text\n",
    "        text = html_text.extract_text(html, guess_layout=False)#parser.common_parser(html)"
   ]
  },
  {
   "cell_type": "code",
   "execution_count": 6,
   "id": "3b1d0673",
   "metadata": {},
   "outputs": [
    {
     "data": {
      "text/plain": [
       "[(1,\n",
       "  'Маслов',\n",
       "  'Алексей',\n",
       "  'Александрович',\n",
       "  'https://istina.msu.ru/profile/Amaslov/'),\n",
       " (2,\n",
       "  'Садовничий',\n",
       "  'Виктор',\n",
       "  'Антонович',\n",
       "  'https://istina.msu.ru/profile/SVA/'),\n",
       " (3, 'Садовничий', 'Юрий', 'Викторович', 'https://istina.msu.ru/profile/uvs/'),\n",
       " (4,\n",
       "  'Бородаев',\n",
       "  'Владимир',\n",
       "  'Алексеевич',\n",
       "  'https://istina.msu.ru/profile/BorodaevVA/'),\n",
       " (5,\n",
       "  'Тарасов',\n",
       "  'Алексей',\n",
       "  'Борисович',\n",
       "  'https://istina.msu.ru/profile/alexey.bor.tarasov%40gmail.com/'),\n",
       " (6,\n",
       "  'Функ',\n",
       "  'Дмитрий',\n",
       "  'Анатольевич',\n",
       "  'https://istina.msu.ru/profile/d_funk/'),\n",
       " (7,\n",
       "  'Жигулина',\n",
       "  'Алёна',\n",
       "  'Владимировна',\n",
       "  'https://istina.msu.ru/profile/d_funk/'),\n",
       " (8,\n",
       "  'Бунина',\n",
       "  'Елена',\n",
       "  'Игоревна',\n",
       "  'https://istina.msu.ru/profile/helenbunina/'),\n",
       " (9,\n",
       "  'Шаракин',\n",
       "  'Сергей',\n",
       "  'Александрович',\n",
       "  'https://istina.msu.ru/profile/sharakin/'),\n",
       " (10,\n",
       "  'Никифоров',\n",
       "  'Александр',\n",
       "  'Игоревич',\n",
       "  'https://istina.msu.ru/profile/AlexanderNikiforov/')]"
      ]
     },
     "execution_count": 6,
     "metadata": {},
     "output_type": "execute_result"
    }
   ],
   "source": [
    "cur.execute(\"\"\"SELECT * from man;\"\"\")\n",
    "cur.fetchall()"
   ]
  },
  {
   "cell_type": "code",
   "execution_count": null,
   "id": "5dedd874",
   "metadata": {},
   "outputs": [],
   "source": []
  }
 ],
 "metadata": {
  "kernelspec": {
   "display_name": "cw5",
   "language": "python",
   "name": "cw5"
  },
  "language_info": {
   "codemirror_mode": {
    "name": "ipython",
    "version": 3
   },
   "file_extension": ".py",
   "mimetype": "text/x-python",
   "name": "python",
   "nbconvert_exporter": "python",
   "pygments_lexer": "ipython3",
   "version": "3.8.11"
  }
 },
 "nbformat": 4,
 "nbformat_minor": 5
}
